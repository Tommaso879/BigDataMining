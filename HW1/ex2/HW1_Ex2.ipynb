{
  "nbformat": 4,
  "nbformat_minor": 0,
  "metadata": {
    "kernelspec": {
      "display_name": "Python 3",
      "language": "python",
      "name": "python3"
    },
    "language_info": {
      "codemirror_mode": {
        "name": "ipython",
        "version": 3
      },
      "file_extension": ".py",
      "mimetype": "text/x-python",
      "name": "python",
      "nbconvert_exporter": "python",
      "pygments_lexer": "ipython3",
      "version": "3.7.3"
    },
    "colab": {
      "provenance": [],
      "machine_shape": "hm",
      "include_colab_link": true
    }
  },
  "cells": [
    {
      "cell_type": "markdown",
      "metadata": {
        "id": "view-in-github",
        "colab_type": "text"
      },
      "source": [
        "<a href=\"https://colab.research.google.com/github/Tommaso879/BigDataMining/blob/main/HW1_Ex1.ipynb\" target=\"_parent\"><img src=\"https://colab.research.google.com/assets/colab-badge.svg\" alt=\"Open In Colab\"/></a>"
      ]
    },
    {
      "cell_type": "code",
      "metadata": {
        "id": "dhzk3GE6S9RC",
        "colab": {
          "base_uri": "https://localhost:8080/"
        },
        "outputId": "e1fb5e7c-4f80-4535-9635-e3a7df08b38c"
      },
      "source": [
        "!pip install pyspark\n",
        "!pip install -U -q PyDrive\n",
        "!apt install openjdk-8-jdk-headless -qq\n",
        "import os\n",
        "os.environ[\"JAVA_HOME\"] = \"/usr/lib/jvm/java-8-openjdk-amd64\""
      ],
      "execution_count": 2,
      "outputs": [
        {
          "output_type": "stream",
          "name": "stdout",
          "text": [
            "Requirement already satisfied: pyspark in /usr/local/lib/python3.10/dist-packages (3.5.2)\n",
            "Requirement already satisfied: py4j==0.10.9.7 in /usr/local/lib/python3.10/dist-packages (from pyspark) (0.10.9.7)\n",
            "openjdk-8-jdk-headless is already the newest version (8u422-b05-1~22.04).\n",
            "0 upgraded, 0 newly installed, 0 to remove and 49 not upgraded.\n"
          ]
        }
      ]
    },
    {
      "cell_type": "code",
      "source": [
        "import pyspark\n",
        "from pyspark.sql import *\n",
        "from pyspark.sql.functions import *\n",
        "from pyspark import SparkContext, SparkConf\n",
        "import pandas as pd\n",
        "import numpy as np\n",
        "import matplotlib.pyplot as plt\n",
        "%matplotlib inline\n",
        "\n",
        "from pyspark.sql import SparkSession"
      ],
      "metadata": {
        "id": "-x3aCJYr_YZY"
      },
      "execution_count": 3,
      "outputs": []
    },
    {
      "cell_type": "code",
      "source": [
        "from google.colab import drive\n",
        "drive.mount('/content/drive')"
      ],
      "metadata": {
        "colab": {
          "base_uri": "https://localhost:8080/"
        },
        "id": "WTmIyR6OKKtR",
        "outputId": "769bfc92-f90d-4ca3-fa88-350467a556d0"
      },
      "execution_count": 4,
      "outputs": [
        {
          "output_type": "stream",
          "name": "stdout",
          "text": [
            "Mounted at /content/drive\n"
          ]
        }
      ]
    },
    {
      "cell_type": "code",
      "source": [
        "import os\n",
        "\n",
        "print(os.getcwd())  # This will print the current working directory\n",
        "print(os.listdir())  # This will list all files and directories\n",
        "\n",
        "os.chdir('/content/drive/MyDrive/Data/HW1/EX1')"
      ],
      "metadata": {
        "colab": {
          "base_uri": "https://localhost:8080/"
        },
        "id": "r2dGCVhKKQtg",
        "outputId": "7dd41eab-e50a-4986-d43f-8d11ecad8a1f"
      },
      "execution_count": 5,
      "outputs": [
        {
          "output_type": "stream",
          "name": "stdout",
          "text": [
            "/content\n",
            "['.config', 'drive', 'sample_data']\n"
          ]
        }
      ]
    },
    {
      "cell_type": "code",
      "metadata": {
        "id": "7ft3VivrSagB"
      },
      "source": [
        "# create the session\n",
        "conf = SparkConf().set(\"spark.ui.port\", \"4050\")\n",
        "\n",
        "# create the context\n",
        "#sc.stop()  #required if a context already exists and you want to re-run he cell\n",
        "sc = pyspark.SparkContext(conf=conf)\n",
        "spark = SparkSession.builder.getOrCreate()\n",
        "# create the Spark Context\n",
        "sc = spark.sparkContext\n",
        "\n",
        "data = spark.read.text(\"soc-LiveJournal1Adj.txt\")"
      ],
      "execution_count": 6,
      "outputs": []
    },
    {
      "cell_type": "code",
      "metadata": {
        "id": "Fl4RHbqFSagE",
        "colab": {
          "base_uri": "https://localhost:8080/",
          "height": 219
        },
        "outputId": "d01de0da-9563-41e8-c1fa-9ca06a61dfc9"
      },
      "source": [
        "spark"
      ],
      "execution_count": 7,
      "outputs": [
        {
          "output_type": "execute_result",
          "data": {
            "text/plain": [
              "<pyspark.sql.session.SparkSession at 0x7805681eca60>"
            ],
            "text/html": [
              "\n",
              "            <div>\n",
              "                <p><b>SparkSession - in-memory</b></p>\n",
              "                \n",
              "        <div>\n",
              "            <p><b>SparkContext</b></p>\n",
              "\n",
              "            <p><a href=\"http://22f851560deb:4050\">Spark UI</a></p>\n",
              "\n",
              "            <dl>\n",
              "              <dt>Version</dt>\n",
              "                <dd><code>v3.5.2</code></dd>\n",
              "              <dt>Master</dt>\n",
              "                <dd><code>local[*]</code></dd>\n",
              "              <dt>AppName</dt>\n",
              "                <dd><code>pyspark-shell</code></dd>\n",
              "            </dl>\n",
              "        </div>\n",
              "        \n",
              "            </div>\n",
              "        "
            ]
          },
          "metadata": {},
          "execution_count": 7
        }
      ]
    },
    {
      "cell_type": "markdown",
      "metadata": {
        "id": "VSWoULeWSagJ"
      },
      "source": [
        "Load the datasets:"
      ]
    },
    {
      "cell_type": "code",
      "metadata": {
        "id": "XLyVPuLXSagK",
        "colab": {
          "base_uri": "https://localhost:8080/"
        },
        "outputId": "669ef944-8e0e-428f-aafd-ce959fc702f7"
      },
      "source": [
        "data.printSchema()"
      ],
      "execution_count": 8,
      "outputs": [
        {
          "output_type": "stream",
          "name": "stdout",
          "text": [
            "root\n",
            " |-- value: string (nullable = true)\n",
            "\n"
          ]
        }
      ]
    },
    {
      "cell_type": "markdown",
      "metadata": {
        "id": "MP2JmCeoSagM"
      },
      "source": [
        "Check the schema:"
      ]
    },
    {
      "cell_type": "code",
      "metadata": {
        "id": "jrJpiG5ISagQ",
        "colab": {
          "base_uri": "https://localhost:8080/"
        },
        "outputId": "72f71eb2-a782-4574-aa6e-e5bb7c70fc83"
      },
      "source": [
        "data.take(3)"
      ],
      "execution_count": 9,
      "outputs": [
        {
          "output_type": "execute_result",
          "data": {
            "text/plain": [
              "[Row(value='0\\t1,2,3,4,5,6,7,8,9,10,11,12,13,14,15,16,17,18,19,20,21,22,23,24,25,26,27,28,29,30,31,32,33,34,35,36,37,38,39,40,41,42,43,44,45,46,47,48,49,50,51,52,53,54,55,56,57,58,59,60,61,62,63,64,65,66,67,68,69,70,71,72,73,74,75,76,77,78,79,80,81,82,83,84,85,86,87,88,89,90,91,92,93,94'),\n",
              " Row(value='1\\t0,5,20,135,2409,8715,8932,10623,12347,12846,13840,13845,14005,20075,21556,22939,23520,28193,29724,29791,29826,30691,31232,31435,32317,32489,34394,35589,35605,35606,35613,35633,35648,35678,38737,43447,44846,44887,49226,49985,623,629,4999,6156,13912,14248,15190,17636,19217,20074,27536,29481,29726,29767,30257,33060,34250,34280,34392,34406,34418,34420,34439,34450,34651,45054,49592'),\n",
              " Row(value='2\\t0,117,135,1220,2755,12453,24539,24714,41456,45046,49927,6893,13795,16659,32828,41878')]"
            ]
          },
          "metadata": {},
          "execution_count": 9
        }
      ]
    },
    {
      "cell_type": "code",
      "metadata": {
        "id": "nwYZrwanSagT",
        "colab": {
          "base_uri": "https://localhost:8080/"
        },
        "outputId": "599edefa-564c-4dfe-eeb8-17de24c798f9"
      },
      "source": [
        "data.show()"
      ],
      "execution_count": 10,
      "outputs": [
        {
          "output_type": "stream",
          "name": "stdout",
          "text": [
            "+--------------------+\n",
            "|               value|\n",
            "+--------------------+\n",
            "|0\\t1,2,3,4,5,6,7,...|\n",
            "|1\\t0,5,20,135,240...|\n",
            "|2\\t0,117,135,1220...|\n",
            "|3\\t0,12,41,55,153...|\n",
            "|4\\t0,8,14,15,18,2...|\n",
            "|5\\t0,1,20,2022,22...|\n",
            "|6\\t0,21,98,2203,3...|\n",
            "|7\\t0,31993,40218,...|\n",
            "|8\\t0,4,38,46,72,8...|\n",
            "|9\\t0,6085,18972,1...|\n",
            "|10\\t0,12,16,30,60...|\n",
            "|11\\t0,1754,6027,7...|\n",
            "|12\\t0,3,10,16,29,...|\n",
            "|13\\t0,12584,32064...|\n",
            "|14\\t0,4,19,19079,...|\n",
            "|       15\\t0,4,27,80|\n",
            "|16\\t0,10,12,18,30...|\n",
            "|17\\t0,19,26,28,95...|\n",
            "|18\\t0,4,16,30,89,...|\n",
            "|19\\t0,14,17,439,1...|\n",
            "+--------------------+\n",
            "only showing top 20 rows\n",
            "\n"
          ]
        }
      ]
    },
    {
      "cell_type": "code",
      "source": [
        "print(\"in total there are {0} people\" .format(data.count()))"
      ],
      "metadata": {
        "colab": {
          "base_uri": "https://localhost:8080/"
        },
        "id": "mFgGNBNkOMjX",
        "outputId": "52576ef2-0449-4104-a908-7c1051724859"
      },
      "execution_count": 11,
      "outputs": [
        {
          "output_type": "stream",
          "name": "stdout",
          "text": [
            "in total there are 49995 people\n"
          ]
        }
      ]
    },
    {
      "cell_type": "code",
      "metadata": {
        "scrolled": true,
        "id": "BWcMVcgwSagX",
        "colab": {
          "base_uri": "https://localhost:8080/"
        },
        "outputId": "6be3eb26-2484-4b2d-b35b-b116c715d924"
      },
      "source": [
        "split_df = data.select(\n",
        "    split(data['value'], '\\t').getItem(0).alias('user'),\n",
        "    split(data['value'], '\\t').getItem(1).alias('friends')\n",
        ")\n",
        "\n",
        "\n",
        "split_df.show(truncate=False)\n"
      ],
      "execution_count": 12,
      "outputs": [
        {
          "output_type": "stream",
          "name": "stdout",
          "text": [
            "+----+---------------------------------------------------------------------------------------------------------------------------------------------------------------------------------------------------------------------------------------------------------------------------------------------------------------------------------------------------------------------------------------------------------------------------------------------------------------------------------------------------------------------------------------------------------+\n",
            "|user|friends                                                                                                                                                                                                                                                                                                                                                                                                                                                                                                                                                  |\n",
            "+----+---------------------------------------------------------------------------------------------------------------------------------------------------------------------------------------------------------------------------------------------------------------------------------------------------------------------------------------------------------------------------------------------------------------------------------------------------------------------------------------------------------------------------------------------------------+\n",
            "|0   |1,2,3,4,5,6,7,8,9,10,11,12,13,14,15,16,17,18,19,20,21,22,23,24,25,26,27,28,29,30,31,32,33,34,35,36,37,38,39,40,41,42,43,44,45,46,47,48,49,50,51,52,53,54,55,56,57,58,59,60,61,62,63,64,65,66,67,68,69,70,71,72,73,74,75,76,77,78,79,80,81,82,83,84,85,86,87,88,89,90,91,92,93,94                                                                                                                                                                                                                                                                         |\n",
            "|1   |0,5,20,135,2409,8715,8932,10623,12347,12846,13840,13845,14005,20075,21556,22939,23520,28193,29724,29791,29826,30691,31232,31435,32317,32489,34394,35589,35605,35606,35613,35633,35648,35678,38737,43447,44846,44887,49226,49985,623,629,4999,6156,13912,14248,15190,17636,19217,20074,27536,29481,29726,29767,30257,33060,34250,34280,34392,34406,34418,34420,34439,34450,34651,45054,49592                                                                                                                                                              |\n",
            "|2   |0,117,135,1220,2755,12453,24539,24714,41456,45046,49927,6893,13795,16659,32828,41878                                                                                                                                                                                                                                                                                                                                                                                                                                                                     |\n",
            "|3   |0,12,41,55,1532,12636,13185,27552,38737                                                                                                                                                                                                                                                                                                                                                                                                                                                                                                                  |\n",
            "|4   |0,8,14,15,18,27,72,80,15326,19068,19079,24596,42697,46126,74,77,33269,38792,38822                                                                                                                                                                                                                                                                                                                                                                                                                                                                        |\n",
            "|5   |0,1,20,2022,22939,23527,30257,32503,35633,41457,43262,44846,49574,31140,32828                                                                                                                                                                                                                                                                                                                                                                                                                                                                            |\n",
            "|6   |0,21,98,2203,3238,5040,8795,9843,9847,15294,17874,18286,18311,18320,20553,35699,35776,38736,38750,38800,543,575,11879,12682,14943,15283,18332,18560,18625,25247,33080,34412,35785,35822,42231                                                                                                                                                                                                                                                                                                                                                            |\n",
            "|7   |0,31993,40218,40433,1357,21843                                                                                                                                                                                                                                                                                                                                                                                                                                                                                                                           |\n",
            "|8   |0,4,38,46,72,85,24777,83,33380                                                                                                                                                                                                                                                                                                                                                                                                                                                                                                                           |\n",
            "|9   |0,6085,18972,19269                                                                                                                                                                                                                                                                                                                                                                                                                                                                                                                                       |\n",
            "|10  |0,12,16,30,6027,13793,23557,29581,35477,35617,44310                                                                                                                                                                                                                                                                                                                                                                                                                                                                                                      |\n",
            "|11  |0,1754,6027,7789,11142,12633,17898,19049,22486,26970,27554,27585,27591,27679,29576,32631,34906,41444                                                                                                                                                                                                                                                                                                                                                                                                                                                     |\n",
            "|12  |0,3,10,16,29,38,41,55,1085,1532,7714,27679,29379,35195,38737,43121,30,83,85,89,13285,27655                                                                                                                                                                                                                                                                                                                                                                                                                                                               |\n",
            "|13  |0,12584,32064,27,37,111,129,274,1383,1600,2141,7284,9172,13207,16519,18122,19051,23525,25177,30071,32045,33439,35589,39022,44412,44575,47887                                                                                                                                                                                                                                                                                                                                                                                                             |\n",
            "|14  |0,4,19,19079,42697,444,42748                                                                                                                                                                                                                                                                                                                                                                                                                                                                                                                             |\n",
            "|15  |0,4,27,80                                                                                                                                                                                                                                                                                                                                                                                                                                                                                                                                                |\n",
            "|16  |0,10,12,18,30,38,89,12570,19044,29319,35477,53,83,9745,15520,19010,30062,31337                                                                                                                                                                                                                                                                                                                                                                                                                                                                           |\n",
            "|17  |0,19,26,28,95,128,134,150,6157,7284,12570,20016,20533,20599,42704,49678,53,29872,31337,31347,44505                                                                                                                                                                                                                                                                                                                                                                                                                                                       |\n",
            "|18  |0,4,16,30,89,2406,2411,12562                                                                                                                                                                                                                                                                                                                                                                                                                                                                                                                             |\n",
            "|19  |0,14,17,439,1100,1694,1705,2413,2644,2646,2659,2678,3734,3926,7463,9892,10240,13076,18163,19388,20290,23202,23512,25195,25239,25256,26887,27736,27808,29260,35585,44824,47445,49678,50,543,623,627,1001,1234,1343,2019,2062,2142,2324,2648,3131,3298,3573,3574,3748,3895,3931,4990,4993,5170,5487,5490,5588,5685,6995,7718,8703,8706,8768,9289,9735,10175,11399,11416,12313,12680,13661,13829,13849,13951,14070,14160,14182,15186,15356,16027,17235,17438,18075,18147,18148,18338,18977,19358,19427,19430,19983,20070,20283,20557,21822,21873,22357,22520|\n",
            "+----+---------------------------------------------------------------------------------------------------------------------------------------------------------------------------------------------------------------------------------------------------------------------------------------------------------------------------------------------------------------------------------------------------------------------------------------------------------------------------------------------------------------------------------------------------------+\n",
            "only showing top 20 rows\n",
            "\n"
          ]
        }
      ]
    },
    {
      "cell_type": "code",
      "source": [
        "# Split friends string by comma and explode into individual rows\n",
        "exploded_df = split_df.withColumn(\"friend\", explode(split(col(\"friends\"), \",\")))\n",
        "\n",
        "# Cast user and friend columns to integer types\n",
        "exploded_df = exploded_df.select(col(\"user\").cast(\"int\"), col(\"friend\").cast(\"int\"))\n",
        "\n",
        "# Show the exploded DataFrame\n",
        "exploded_df.show(truncate=False)"
      ],
      "metadata": {
        "colab": {
          "base_uri": "https://localhost:8080/"
        },
        "id": "6yUzLxfNvDqu",
        "outputId": "ef7d7a63-a89a-494d-a666-2217d84c25aa"
      },
      "execution_count": 13,
      "outputs": [
        {
          "output_type": "stream",
          "name": "stdout",
          "text": [
            "+----+------+\n",
            "|user|friend|\n",
            "+----+------+\n",
            "|0   |1     |\n",
            "|0   |2     |\n",
            "|0   |3     |\n",
            "|0   |4     |\n",
            "|0   |5     |\n",
            "|0   |6     |\n",
            "|0   |7     |\n",
            "|0   |8     |\n",
            "|0   |9     |\n",
            "|0   |10    |\n",
            "|0   |11    |\n",
            "|0   |12    |\n",
            "|0   |13    |\n",
            "|0   |14    |\n",
            "|0   |15    |\n",
            "|0   |16    |\n",
            "|0   |17    |\n",
            "|0   |18    |\n",
            "|0   |19    |\n",
            "|0   |20    |\n",
            "+----+------+\n",
            "only showing top 20 rows\n",
            "\n"
          ]
        }
      ]
    },
    {
      "cell_type": "code",
      "source": [
        "# Self-join to find friends of friends\n",
        "friends_of_friends = exploded_df.alias(\"df1\").join(\n",
        "    exploded_df.alias(\"df2\"),\n",
        "    col(\"df1.friend\") == col(\"df2.user\")\n",
        ").select(\n",
        "    col(\"df1.user\").alias(\"user\"),\n",
        "    col(\"df2.friend\").alias(\"friend_of_friend\")\n",
        ")\n",
        "\n",
        "# Show friends of friends\n",
        "friends_of_friends.show(truncate=False)"
      ],
      "metadata": {
        "colab": {
          "base_uri": "https://localhost:8080/"
        },
        "id": "pSVSChqpvaXU",
        "outputId": "72441ccb-b3d5-4805-af6d-02b8099495b5"
      },
      "execution_count": 14,
      "outputs": [
        {
          "output_type": "stream",
          "name": "stdout",
          "text": [
            "+----+----------------+\n",
            "|user|friend_of_friend|\n",
            "+----+----------------+\n",
            "|0   |49592           |\n",
            "|0   |45054           |\n",
            "|0   |34651           |\n",
            "|0   |34450           |\n",
            "|0   |34439           |\n",
            "|0   |34420           |\n",
            "|0   |34418           |\n",
            "|0   |34406           |\n",
            "|0   |34392           |\n",
            "|0   |34280           |\n",
            "|0   |34250           |\n",
            "|0   |33060           |\n",
            "|0   |30257           |\n",
            "|0   |29767           |\n",
            "|0   |29726           |\n",
            "|0   |29481           |\n",
            "|0   |27536           |\n",
            "|0   |20074           |\n",
            "|0   |19217           |\n",
            "|0   |17636           |\n",
            "+----+----------------+\n",
            "only showing top 20 rows\n",
            "\n"
          ]
        }
      ]
    },
    {
      "cell_type": "code",
      "source": [
        "# Filter out the friends who are already direct friends\n",
        "filtered_result = friends_of_friends.join(\n",
        "    exploded_df,\n",
        "    (friends_of_friends.user == exploded_df.user) & (friends_of_friends.friend_of_friend == exploded_df.friend),\n",
        "    how=\"left_anti\"\n",
        ")\n",
        "\n",
        "# Show the final result\n",
        "filtered_result.show(truncate=False)"
      ],
      "metadata": {
        "colab": {
          "base_uri": "https://localhost:8080/"
        },
        "id": "ZZGHLlfUvqtK",
        "outputId": "abac923f-d1a1-430b-ff72-921c2c84d692"
      },
      "execution_count": 15,
      "outputs": [
        {
          "output_type": "stream",
          "name": "stdout",
          "text": [
            "+----+----------------+\n",
            "|user|friend_of_friend|\n",
            "+----+----------------+\n",
            "|0   |49592           |\n",
            "|0   |45054           |\n",
            "|0   |34651           |\n",
            "|0   |34450           |\n",
            "|0   |34439           |\n",
            "|0   |34420           |\n",
            "|0   |34418           |\n",
            "|0   |34406           |\n",
            "|0   |34392           |\n",
            "|0   |34280           |\n",
            "|0   |34250           |\n",
            "|0   |33060           |\n",
            "|0   |30257           |\n",
            "|0   |29767           |\n",
            "|0   |29726           |\n",
            "|0   |29481           |\n",
            "|0   |27536           |\n",
            "|0   |20074           |\n",
            "|0   |19217           |\n",
            "|0   |17636           |\n",
            "+----+----------------+\n",
            "only showing top 20 rows\n",
            "\n"
          ]
        }
      ]
    },
    {
      "cell_type": "code",
      "source": [
        "filtered_result = filtered_result.filter(col(\"user\") != col(\"friend_of_friend\"))"
      ],
      "metadata": {
        "id": "3_Q3ssGH0dPA"
      },
      "execution_count": 16,
      "outputs": []
    },
    {
      "cell_type": "code",
      "source": [
        "# Check for duplicates by grouping by user and friend_of_friend\n",
        "duplicates_check = filtered_result.groupBy(\"user\", \"friend_of_friend\").count()\n",
        "\n",
        "# Show entries with more than one occurrence (which means duplicates exist)\n",
        "duplicates_check.filter(col(\"count\") > 1).show(truncate=False)\n"
      ],
      "metadata": {
        "colab": {
          "base_uri": "https://localhost:8080/"
        },
        "id": "xuf-0CYHvy_V",
        "outputId": "75c33877-b003-4fcf-b3a9-d4834be4bbf2"
      },
      "execution_count": 17,
      "outputs": [
        {
          "output_type": "stream",
          "name": "stdout",
          "text": [
            "+----+----------------+-----+\n",
            "|user|friend_of_friend|count|\n",
            "+----+----------------+-----+\n",
            "|0   |337             |3    |\n",
            "|0   |343             |2    |\n",
            "|0   |352             |3    |\n",
            "|0   |543             |2    |\n",
            "|0   |623             |2    |\n",
            "|0   |1532            |3    |\n",
            "|0   |2644            |2    |\n",
            "|0   |6027            |2    |\n",
            "|0   |6169            |2    |\n",
            "|0   |7284            |2    |\n",
            "|0   |9745            |2    |\n",
            "|0   |10506           |2    |\n",
            "|0   |12143           |3    |\n",
            "|0   |12561           |3    |\n",
            "|0   |12636           |2    |\n",
            "|0   |13285           |2    |\n",
            "|0   |15520           |2    |\n",
            "|0   |16514           |2    |\n",
            "|0   |18591           |4    |\n",
            "|0   |19051           |2    |\n",
            "+----+----------------+-----+\n",
            "only showing top 20 rows\n",
            "\n"
          ]
        }
      ]
    },
    {
      "cell_type": "code",
      "source": [
        "requesedUserID = input(\"Enter the user ID: \")\n",
        "print(\"here's the result for user \", requesedUserID)\n",
        "result = duplicates_check.select(\"user\", \"friend_of_friend\", \"count\").filter(col(\"user\") == requesedUserID)\n",
        "result = result.sort(col(\"count\").desc(), col(\"friend_of_friend\").asc())\n",
        "result.limit(10).show(truncate=False)\n",
        "\n",
        "expected_result = [[27552,7785,27573,27574,27589,27590,27600,27617,27620,27667]]\n",
        "print(\"here's the expected result\")\n",
        "print(expected_result)\n"
      ],
      "metadata": {
        "colab": {
          "base_uri": "https://localhost:8080/"
        },
        "id": "Nn5nR7SywloD",
        "outputId": "60246c07-16f7-4e76-f081-f75cb6044656"
      },
      "execution_count": 18,
      "outputs": [
        {
          "output_type": "stream",
          "name": "stdout",
          "text": [
            "Enter the user ID: 11\n",
            "here's the result for user  11\n",
            "+----+----------------+-----+\n",
            "|user|friend_of_friend|count|\n",
            "+----+----------------+-----+\n",
            "|11  |27552           |4    |\n",
            "|11  |7785            |3    |\n",
            "|11  |27573           |3    |\n",
            "|11  |27574           |3    |\n",
            "|11  |27589           |3    |\n",
            "|11  |27590           |3    |\n",
            "|11  |27600           |3    |\n",
            "|11  |27617           |3    |\n",
            "|11  |27620           |3    |\n",
            "|11  |27667           |3    |\n",
            "+----+----------------+-----+\n",
            "\n",
            "here's the expected result\n",
            "[[27552, 7785, 27573, 27574, 27589, 27590, 27600, 27617, 27620, 27667]]\n"
          ]
        }
      ]
    },
    {
      "cell_type": "code",
      "source": [
        "wanted_values = [8997, 2791, 4985, 8961, 4049, 5060, 739, 1724, 9550, 3151]\n",
        "\n",
        "for i in wanted_values:\n",
        "  print(\"here's the result for user \", i)\n",
        "  result = duplicates_check.select(\"user\", \"friend_of_friend\", \"count\").filter(col(\"user\") == i)\n",
        "  result = result.sort(col(\"count\").desc(), col(\"friend_of_friend\").asc())\n",
        "  result.limit(10).show(truncate=False)"
      ],
      "metadata": {
        "colab": {
          "base_uri": "https://localhost:8080/"
        },
        "id": "znfCfa7xy6uH",
        "outputId": "c053d46a-a52f-43f5-9ada-5b2dde547c1a"
      },
      "execution_count": 19,
      "outputs": [
        {
          "output_type": "stream",
          "name": "stdout",
          "text": [
            "here's the result for user  8997\n",
            "+----+----------------+-----+\n",
            "|user|friend_of_friend|count|\n",
            "+----+----------------+-----+\n",
            "|8997|8998            |4    |\n",
            "|8997|8987            |3    |\n",
            "|8997|8992            |2    |\n",
            "|8997|9001            |2    |\n",
            "|8997|9003            |2    |\n",
            "|8997|9009            |2    |\n",
            "|8997|4849            |1    |\n",
            "|8997|7174            |1    |\n",
            "|8997|7279            |1    |\n",
            "|8997|7364            |1    |\n",
            "+----+----------------+-----+\n",
            "\n",
            "here's the result for user  2791\n",
            "+----+----------------+-----+\n",
            "|user|friend_of_friend|count|\n",
            "+----+----------------+-----+\n",
            "|2791|21185           |5    |\n",
            "|2791|8783            |4    |\n",
            "|2791|13280           |4    |\n",
            "|2791|18359           |4    |\n",
            "|2791|18363           |4    |\n",
            "|2791|23667           |4    |\n",
            "|2791|35740           |4    |\n",
            "|2791|2204            |3    |\n",
            "|2791|2786            |3    |\n",
            "|2791|5996            |3    |\n",
            "+----+----------------+-----+\n",
            "\n",
            "here's the result for user  4985\n",
            "+----+----------------+-----+\n",
            "|user|friend_of_friend|count|\n",
            "+----+----------------+-----+\n",
            "|4985|79              |1    |\n",
            "|4985|577             |1    |\n",
            "|4985|4839            |1    |\n",
            "|4985|4984            |1    |\n",
            "|4985|4986            |1    |\n",
            "|4985|4987            |1    |\n",
            "|4985|4988            |1    |\n",
            "|4985|4989            |1    |\n",
            "|4985|4990            |1    |\n",
            "|4985|4991            |1    |\n",
            "+----+----------------+-----+\n",
            "\n",
            "here's the result for user  8961\n",
            "+----+----------------+-----+\n",
            "|user|friend_of_friend|count|\n",
            "+----+----------------+-----+\n",
            "|8961|12241           |10   |\n",
            "|8961|8973            |9    |\n",
            "|8961|8965            |8    |\n",
            "|8961|8963            |7    |\n",
            "|8961|8966            |7    |\n",
            "|8961|8967            |6    |\n",
            "|8961|7174            |5    |\n",
            "|8961|8969            |5    |\n",
            "|8961|12243           |5    |\n",
            "|8961|7177            |4    |\n",
            "+----+----------------+-----+\n",
            "\n",
            "here's the result for user  4049\n",
            "+----+----------------+-----+\n",
            "|user|friend_of_friend|count|\n",
            "+----+----------------+-----+\n",
            "|4049|4871            |5    |\n",
            "|4049|4875            |3    |\n",
            "|4049|4889            |3    |\n",
            "|4049|8492            |3    |\n",
            "|4049|8685            |3    |\n",
            "|4049|439             |2    |\n",
            "|4049|660             |2    |\n",
            "|4049|1100            |2    |\n",
            "|4049|1137            |2    |\n",
            "|4049|1156            |2    |\n",
            "+----+----------------+-----+\n",
            "\n",
            "here's the result for user  5060\n",
            "+----+----------------+-----+\n",
            "|user|friend_of_friend|count|\n",
            "+----+----------------+-----+\n",
            "|5060|5052            |2    |\n",
            "|5060|5057            |2    |\n",
            "|5060|5086            |2    |\n",
            "|5060|14271           |2    |\n",
            "|5060|98              |1    |\n",
            "|5060|364             |1    |\n",
            "|5060|575             |1    |\n",
            "|5060|596             |1    |\n",
            "|5060|611             |1    |\n",
            "|5060|622             |1    |\n",
            "+----+----------------+-----+\n",
            "\n",
            "here's the result for user  739\n",
            "+----+----------------+-----+\n",
            "|user|friend_of_friend|count|\n",
            "+----+----------------+-----+\n",
            "|739 |732             |7    |\n",
            "|739 |367             |6    |\n",
            "|739 |381             |5    |\n",
            "|739 |336             |4    |\n",
            "|739 |21526           |4    |\n",
            "|739 |28064           |4    |\n",
            "|739 |677             |3    |\n",
            "|739 |704             |3    |\n",
            "|739 |728             |3    |\n",
            "|739 |736             |3    |\n",
            "+----+----------------+-----+\n",
            "\n",
            "here's the result for user  1724\n",
            "+----+----------------+-----+\n",
            "|user|friend_of_friend|count|\n",
            "+----+----------------+-----+\n",
            "|1724|1711            |8    |\n",
            "|1724|1663            |7    |\n",
            "|1724|1712            |7    |\n",
            "|1724|1718            |7    |\n",
            "|1724|1662            |6    |\n",
            "|1724|1697            |6    |\n",
            "|1724|1700            |6    |\n",
            "|1724|1715            |6    |\n",
            "|1724|1716            |6    |\n",
            "|1724|1658            |5    |\n",
            "+----+----------------+-----+\n",
            "\n",
            "here's the result for user  9550\n",
            "+----+----------------+-----+\n",
            "|user|friend_of_friend|count|\n",
            "+----+----------------+-----+\n",
            "|9550|9554            |3    |\n",
            "|9550|9533            |2    |\n",
            "|9550|9544            |2    |\n",
            "|9550|9558            |2    |\n",
            "|9550|153             |1    |\n",
            "|9550|1220            |1    |\n",
            "|9550|1421            |1    |\n",
            "|9550|1436            |1    |\n",
            "|9550|1951            |1    |\n",
            "|9550|2413            |1    |\n",
            "+----+----------------+-----+\n",
            "\n",
            "here's the result for user  3151\n",
            "+----+----------------+-----+\n",
            "|user|friend_of_friend|count|\n",
            "+----+----------------+-----+\n",
            "|3151|3161            |4    |\n",
            "|3151|43162           |4    |\n",
            "|3151|3230            |3    |\n",
            "|3151|3450            |3    |\n",
            "|3151|8692            |3    |\n",
            "|3151|161             |2    |\n",
            "|3151|2036            |2    |\n",
            "|3151|3136            |2    |\n",
            "|3151|3137            |2    |\n",
            "|3151|3162            |2    |\n",
            "+----+----------------+-----+\n",
            "\n"
          ]
        }
      ]
    },
    {
      "cell_type": "code",
      "source": [],
      "metadata": {
        "id": "IF6OlDQ24WGV"
      },
      "execution_count": 19,
      "outputs": []
    }
  ]
}